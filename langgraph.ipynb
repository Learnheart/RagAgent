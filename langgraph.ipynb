{
 "cells": [
  {
   "cell_type": "markdown",
   "metadata": {},
   "source": [
    "### Config"
   ]
  },
  {
   "cell_type": "code",
   "execution_count": 1,
   "metadata": {},
   "outputs": [],
   "source": [
    "from langchain_community.vectorstores import Chroma\n",
    "from langchain_community.embeddings.fastembed import FastEmbedEmbeddings\n",
    "from langchain_groq import ChatGroq\n",
    "from langchain.schema import Document\n",
    "from langchain_core.runnables import RunnableLambda\n",
    "from langchain_community.tools.tavily_search import TavilySearchResults\n",
    "from pprint import pprint\n",
    "import os\n",
    "import time\n",
    "from langchain.prompts import PromptTemplate\n",
    "from langchain_core.output_parsers import JsonOutputParser\n",
    "from langchain_core.output_parsers import StrOutputParser\n",
    "from langchain.retrievers.multi_query import MultiQueryRetriever\n",
    "from langchain.embeddings import HuggingFaceEmbeddings"
   ]
  },
  {
   "cell_type": "markdown",
   "metadata": {},
   "source": [
    "### Embedding & call llm"
   ]
  },
  {
   "cell_type": "code",
   "execution_count": 2,
   "metadata": {},
   "outputs": [],
   "source": [
    "\n",
    "# embed_model = FastEmbedEmbeddings(\n",
    "#     model_name=\"sentence-transformers/paraphrase-multilingual-MiniLM-L12-v2\",\n",
    "#     cache_dir=\"./embedding_cache\" \n",
    "# )"
   ]
  },
  {
   "cell_type": "code",
   "execution_count": 3,
   "metadata": {},
   "outputs": [
    {
     "name": "stderr",
     "output_type": "stream",
     "text": [
      "/Users/linhbk/Documents/python projects/NCKH_2024/RagAgent/agent_libs/lib/python3.12/site-packages/tqdm/auto.py:21: TqdmWarning: IProgress not found. Please update jupyter and ipywidgets. See https://ipywidgets.readthedocs.io/en/stable/user_install.html\n",
      "  from .autonotebook import tqdm as notebook_tqdm\n",
      "/var/folders/cc/64gffy7j1_79tlsdxkhtcjg00000gp/T/ipykernel_5421/3618425365.py:4: LangChainDeprecationWarning: The class `HuggingFaceEmbeddings` was deprecated in LangChain 0.2.2 and will be removed in 1.0. An updated version of the class exists in the :class:`~langchain-huggingface package and should be used instead. To use it run `pip install -U :class:`~langchain-huggingface` and import as `from :class:`~langchain_huggingface import HuggingFaceEmbeddings``.\n",
      "  embed_model = HuggingFaceEmbeddings(model_name=\"truro7/vn-law-embedding\", cache_folder=\"./embedding_cache\")\n",
      "Invalid model-index. Not loading eval results into CardData.\n",
      "Invalid model-index. Not loading eval results into CardData.\n"
     ]
    }
   ],
   "source": [
    "from sentence_transformers import SentenceTransformer\n",
    "\n",
    "# embed_model = HuggingFaceEmbeddings(model_name=\"hiieu/halong_embedding\", cache_folder=\"./embedding_cache\")\n",
    "embed_model = HuggingFaceEmbeddings(model_name=\"truro7/vn-law-embedding\", cache_folder=\"./embedding_cache\")"
   ]
  },
  {
   "cell_type": "code",
   "execution_count": null,
   "metadata": {},
   "outputs": [],
   "source": [
    "import os\n",
    "groq_api_key = os.environ['GROQ_API_KEY']\n",
    "llm = ChatGroq(model_name='Llama3-8b-8192', api_key=groq_api_key)"
   ]
  },
  {
   "cell_type": "markdown",
   "metadata": {},
   "source": [
    "###  Chunking text"
   ]
  },
  {
   "cell_type": "code",
   "execution_count": 5,
   "metadata": {},
   "outputs": [],
   "source": [
    "import json\n",
    "with open(\"data/source/vectorstore.json\", \"r\", encoding=\"utf-8\") as f:\n",
    "    chunks_with_metadata = json.load(f)\n",
    "\n",
    "doc_splits = [\n",
    "    Document(\n",
    "        page_content=chunk[\"text\"],\n",
    "        metadata={\n",
    "            \"chapter\": chunk[\"metadata\"][\"chapter\"],\n",
    "            \"title\": chunk[\"metadata\"][\"title\"],\n",
    "            \"date\": chunk[\"metadata\"][\"date\"]\n",
    "        }\n",
    "    ) for chunk in chunks_with_metadata\n",
    "]"
   ]
  },
  {
   "cell_type": "code",
   "execution_count": 6,
   "metadata": {},
   "outputs": [
    {
     "data": {
      "text/plain": [
       "2607"
      ]
     },
     "execution_count": 6,
     "metadata": {},
     "output_type": "execute_result"
    }
   ],
   "source": [
    "doc_count = len(doc_splits)\n",
    "doc_count"
   ]
  },
  {
   "cell_type": "markdown",
   "metadata": {},
   "source": [
    "## RAG"
   ]
  },
  {
   "cell_type": "markdown",
   "metadata": {},
   "source": [
    "### save vector db in persist files"
   ]
  },
  {
   "cell_type": "code",
   "execution_count": null,
   "metadata": {},
   "outputs": [],
   "source": [
    "# persist_directory = \"./real_estate_db/vectorstore_halong\"\n",
    "# persist_directory = './real_estate_db/vectorstore'\n",
    "persist_directory = './real_estate_db/vectorstore_vn-law'"
   ]
  },
  {
   "cell_type": "markdown",
   "metadata": {},
   "source": [
    "### chromadb"
   ]
  },
  {
   "cell_type": "code",
   "execution_count": 8,
   "metadata": {},
   "outputs": [],
   "source": [
    "# vectorstore_created = Chroma.from_documents(documents=doc_splits,\n",
    "#                                     embedding=embed_model,\n",
    "#                                     persist_directory=persist_directory,\n",
    "#                                     collection_name=\"vectorstore_vn_law\")\n",
    "# vectorstore_created.persist()"
   ]
  },
  {
   "cell_type": "code",
   "execution_count": 9,
   "metadata": {},
   "outputs": [
    {
     "name": "stderr",
     "output_type": "stream",
     "text": [
      "/var/folders/cc/64gffy7j1_79tlsdxkhtcjg00000gp/T/ipykernel_5421/3807471848.py:2: LangChainDeprecationWarning: The class `Chroma` was deprecated in LangChain 0.2.9 and will be removed in 1.0. An updated version of the class exists in the :class:`~langchain-chroma package and should be used instead. To use it run `pip install -U :class:`~langchain-chroma` and import as `from :class:`~langchain_chroma import Chroma``.\n",
      "  vectorstore = Chroma(persist_directory=persist_directory, embedding_function=embed_model, collection_name=\"vectorstore_vn_law\")\n"
     ]
    }
   ],
   "source": [
    "# call from existed db\n",
    "vectorstore = Chroma(persist_directory=persist_directory, embedding_function=embed_model, collection_name=\"vectorstore_vn_law\")\n",
    "# vectorstore.get()"
   ]
  },
  {
   "cell_type": "code",
   "execution_count": 10,
   "metadata": {},
   "outputs": [
    {
     "name": "stdout",
     "output_type": "stream",
     "text": [
      "Number of stored documents: 2607\n",
      "Files in persistence directory: ['46314cca-631d-4b09-800b-b6b2dd74e7af', 'chroma.sqlite3']\n"
     ]
    }
   ],
   "source": [
    "print(\"Number of stored documents:\", vectorstore._collection.count())\n",
    "# print(\"First document:\", doc_splits[-1].page_content if doc_splits else \"No documents found!\")\n",
    "print(\"Files in persistence directory:\", os.listdir(persist_directory))"
   ]
  },
  {
   "cell_type": "code",
   "execution_count": 11,
   "metadata": {},
   "outputs": [
    {
     "name": "stdout",
     "output_type": "stream",
     "text": [
      "Available collections: ['vectorstore_vn_law']\n"
     ]
    }
   ],
   "source": [
    "from chromadb import PersistentClient\n",
    "client = PersistentClient(path=persist_directory)\n",
    "collections = client.list_collections()\n",
    "print(\"Available collections:\", collections)\n"
   ]
  },
  {
   "cell_type": "code",
   "execution_count": 12,
   "metadata": {},
   "outputs": [],
   "source": [
    "retriever = vectorstore.as_retriever(search_kwargs={\"k\": 5})\n",
    "retriever_lambda = RunnableLambda(lambda x: retriever.get_relevant_documents(x[\"question\"]))"
   ]
  },
  {
   "cell_type": "code",
   "execution_count": 13,
   "metadata": {},
   "outputs": [],
   "source": [
    "# from langchain.schema import Document\n",
    "# from langchain_core.runnables import RunnableLambda\n",
    "\n",
    "# # convert chunks to document\n",
    "# def format_text_chunks(text_chunks):\n",
    "#     return [Document(page_content=chunk) for chunk in text_chunks]\n",
    "\n",
    "# retriever_lambda = RunnableLambda(lambda x: format_text_chunks(retriever.get_relevant_documents(x[\"question\"])))"
   ]
  },
  {
   "cell_type": "markdown",
   "metadata": {},
   "source": [
    "## Component prompts"
   ]
  },
  {
   "cell_type": "code",
   "execution_count": 14,
   "metadata": {},
   "outputs": [
    {
     "name": "stdout",
     "output_type": "stream",
     "text": [
      "{'score': 'no'}\n"
     ]
    }
   ],
   "source": [
    "filter_prompt = PromptTemplate(\n",
    "    template=\"\"\"\n",
    "    You are an AI-based information filter responsible for categorizing user input questions.\n",
    "    Your mission is to return a binary choice \"yes\" or \"no\" indicating whether the question is related to sensitive topics.\n",
    "    Sensitive topics include hate-speech, sexuality, politics, historical, violence, religion.\n",
    "    \n",
    "    **IMPORTANT**: Your response **MUST** be a valid JSON object with a single key \"score\" and a value of \"yes\" or \"no\". \n",
    "    **NOTE**: If topic is related to vietnamese laws, its not the sensitive topic even refer to senstive topics. \n",
    "    **NOTE**: Some hate-speech often wrote in short cut (\"đcm\", \"mm\", \"vl\") \n",
    "    **DO NOT** include any other text or explanation.\n",
    "    \n",
    "    For example: \n",
    "    Input: \"ai là người lãnh đạo đảng?\"\n",
    "    Output: {{\"score\": \"yes\"}}\n",
    "\n",
    "    Input: \"việt tân là ai?\"\n",
    "    Output: {{\"score\": \"yes\"}}\n",
    "    \n",
    "    Input: \"đcmm\"\n",
    "    Output: {{\"score\": \"yes\"}}\n",
    "    \n",
    "    Input: \"luật việt nam là như nào?\"\n",
    "    Output: {{\"score\": \"no\"}}\n",
    "    \n",
    "    Input: \"tội hiếp dâm và giết người bị phán bao nhiêu năm tù?\"\n",
    "    Output: {{\"score\": \"no\"}}\n",
    "    \n",
    "    Question need to filtered: {question}\n",
    "    \"\"\",\n",
    "    input_variables=[\"question\"]\n",
    ")\n",
    "filter_chain = (filter_prompt | llm | JsonOutputParser())\n",
    "\n",
    "# test\n",
    "question = \"“Người sử dụng đất” được hiểu như thế nào theo quy định của Luật Đất đai năm 2024?\"\n",
    "filter_result = filter_chain.invoke({\"question\": question})\n",
    "print(filter_result)"
   ]
  },
  {
   "cell_type": "markdown",
   "metadata": {},
   "source": [
    "### Router"
   ]
  },
  {
   "cell_type": "code",
   "execution_count": 15,
   "metadata": {},
   "outputs": [
    {
     "name": "stdout",
     "output_type": "stream",
     "text": [
      "{'datasource': 'vectorstore'}\n",
      "The time required to generate response by Router Chain in seconds:0.2626187801361084\n"
     ]
    }
   ],
   "source": [
    "router_prompt = PromptTemplate(\n",
    "    template=\"\"\"<|begin_of_text|><|start_header_id|>system<|end_header_id|> You are an expert at routing a \n",
    "    user question to a vectorstore or web search. Use the vectorstore for questions on real estate laws in Vietnam. You do not need to be stringent with the keywords \n",
    "    in the question related to these topics. Otherwise, use web-search. Give a binary choice 'web_search' \n",
    "    or 'vectorstore' based on the question. Return the a JSON with a single key 'datasource' and \n",
    "    no premable or explaination. Question to route: {question} <|eot_id|><|start_header_id|>assistant<|end_header_id|>\"\"\",\n",
    "    input_variables=[\"question\"],\n",
    ")\n",
    "start = time.time()\n",
    "question_router = router_prompt | llm | JsonOutputParser()\n",
    "\n",
    "# test\n",
    "print(question_router.invoke({\"question\": question}))\n",
    "end = time.time()\n",
    "print(f\"The time required to generate response by Router Chain in seconds:{end - start}\")"
   ]
  },
  {
   "cell_type": "markdown",
   "metadata": {},
   "source": [
    "### Generator"
   ]
  },
  {
   "cell_type": "code",
   "execution_count": 36,
   "metadata": {},
   "outputs": [
    {
     "name": "stdout",
     "output_type": "stream",
     "text": [
      "Theo quy định của Luật Đất đai năm 2024, người sử dụng đất được hiểu là các đối tượng sau:\n",
      "\n",
      "Theo Điều 4 của Luật này, người sử dụng đất bao gồm:\n",
      "\n",
      "* Nhà nước giao đất, cho thuê đất, công nhận quyền sử dụng đất cho người sử dụng đất;\n",
      "* Người đang sử dụng đất ổn định, đủ điều kiện cấp Giấy chứng nhận quyền sử dụng đất, quyền sở hữu tài sản gắn liền với đất;\n",
      "* Chủ đầu tư dự án đầu tư có sử dụng đất;\n",
      "* Cộng đồng dân cư;\n",
      "* Các đối tượng khác có liên quan đến việc quản lý, sử dụng đất đai.\n",
      "\n",
      "Theo Điều 2 của Luật này, đối tượng áp dụng Luật Đất đai năm 2024 bao gồm:\n",
      "\n",
      "* Cơ quan nhà nước thực hiện quyền hạn và trách nhiệm đại diện chủ sở hữu toàn dân về đất đai, thực hiện nhiệm vụ thống nhất quản lý nhà nước về đất đai;\n",
      "* Người sử dụng đất;\n",
      "* Các đối tượng khác có liên quan đến việc quản lý, sử dụng đất đai.\n",
      "\n",
      "Theo Điều 25 của Luật này, người sử dụng đất có nghĩa vụ chấp hành đúng các quy định của pháp luật về đất đai, giữ gìn, bảo vệ và phát triển tài nguyên đất, tôn trọng quyền sử dụng đất của người sử dụng đất khác.\n",
      "\n",
      "Theo Điều 26 của Luật này, người sử dụng đất có quyền:\n",
      "\n",
      "* Được cấp Giấy chứng nhận quyền sử dụng đất, quyền sở hữu tài sản gắn liền với đất;\n",
      "* Hưởng thành quả lao động, kết quả đầu tư trên đất sử dụng hợp pháp;\n",
      "* Hưởng các lợi ích khi Nhà nước đầu tư để bảo vệ, cải tạo và phát triển đất nông nghiệp;\n",
      "* Được Nhà nước hướng dẫn và giúp đỡ trong việc cải tạo, phục hồi đất nông nghiệp;\n",
      "* Được Nhà nước bảo hộ khi người khác xâm phạm quyền, lợi ích hợp pháp về đất đai của mình;\n",
      "* Được quyền chuyển mục đích sử dụng đất;\n",
      "* Được bồi thường, hỗ trợ, tái định cư khi Nhà nước thu hồi đất;\n",
      "* Khiếu nại, tố cáo, khởi kiện về những hành vi vi phạm quyền sử dụng đất hợp pháp của mình và những hành vi khác vi phạm pháp luật về đất đai.\n",
      "\n",
      "Từ những quy định trên, có thể thấy người sử dụng đất là các đối tượng có liên quan đến việc quản lý, sử dụng đất đai, bao gồm các đối tượng được Nhà nước giao đất, cho thuê đất, công nhận quyền sử dụng đất, người đang sử dụng đất ổn định, chủ đầu tư dự án đầu tư có sử dụng đất, cộng đồng dân cư và các đối tượng khác có liên quan đến việc quản lý, sử dụng đất đai.\n"
     ]
    }
   ],
   "source": [
    "from langchain_core.runnables import RunnableLambda\n",
    "\n",
    "qa_prompt = PromptTemplate(\n",
    "    template=\"\"\"You are professor in field of Vietnam Law, answer question using pieces of retrieved context from newest Legal Document. \n",
    "    Let's analyze and solving the question step by step. \n",
    "    If you don't know the answer, just refuse answer in polite and friendly. \n",
    "    Answer question in detailed, make sure references vietnamese's law that prove for your answer. \n",
    "    For example:\n",
    "    Question: Phạm vi điều chỉnh và đối tượng áp dụng Luật Đất đai năm 2024 là gì?\n",
    "    Answer: \n",
    "    Điều 1. Phạm vi điều chỉnh\n",
    "    Luật này quy định về chế độ sở hữu đất đai, quyền hạn và trách nhiệm của Nhà nước đại diện chủ sở hữu toàn dân về đất đai và thống nhất quản lý về đất đai, chế độ quản lý và sử dụng đất đai, quyền và nghĩa vụ của công dân, người sử dụng đất đối với đất đai thuộc lãnh thổ của nước Cộng hòa xã hội chủ nghĩa Việt Nam.\n",
    "    Điều 2. Đối tượng áp dụng\n",
    "    1. Cơ quan nhà nước thực hiện quyền hạn và trách nhiệm đại diện chủ sở hữu toàn dân về đất đai, thực hiện nhiệm vụ thống nhất quản lý nhà nước về đất đai.\n",
    "    2. Người sử dụng đất.\n",
    "    3. Các đối tượng khác có liên quan đến việc quản lý, sử dụng đất đai.'\n",
    "    \n",
    "    **IMPORTANT**: Your response **MUST** be in Vietnamese, **DO NOT** use any other language; and it must be courteous and professional.\n",
    "    **NOTE**: The most recent versions of the Vietnamese government's papers must be cited.\n",
    "    Question: {question} \n",
    "    Context: {context} \n",
    "    Answer: professor\"\"\",\n",
    "    input_variables=[\"question\", \"document\"],\n",
    ")\n",
    "\n",
    "# Chain\n",
    "start = time.time()\n",
    "rag_chain = (\n",
    "    {\"question\": lambda x: x[\"question\"], \"context\": retriever_lambda}\n",
    "    | qa_prompt\n",
    "    | llm\n",
    "    | StrOutputParser()\n",
    ")\n",
    "\n",
    "# test\n",
    "# question = \"luật nhà ở 2024\"\n",
    "response = rag_chain.invoke({\"question\": question})\n",
    "print(response)"
   ]
  },
  {
   "cell_type": "markdown",
   "metadata": {},
   "source": [
    "### Retriever"
   ]
  },
  {
   "cell_type": "code",
   "execution_count": 41,
   "metadata": {},
   "outputs": [
    {
     "name": "stdout",
     "output_type": "stream",
     "text": [
      "doc 1 content: Điều 25.\n",
      "Nghĩa vụ của công dân đối với đất đai\n",
      "1. Chấp hành đúng các quy định của\n",
      "pháp luật về đất đai. 2. Giữ gìn, bảo vệ và phát triển\n",
      "tài nguyên đất. 3. Tôn trọng quyền sử dụng đất của\n",
      "người sử dụng đất khác. Chương III QUYỀN VÀ NGHĨA VỤ CỦA\n",
      "NGƯỜI SỬ DỤNG ĐẤT Mục 1. QUY\n",
      "ĐỊNH CHUNG\n",
      "retriever 1 grade: {'score': 'yes'}\n",
      "doc 2 content: Điều 4. Người\n",
      "sử dụng đất\n",
      "Người sử dụng đất được Nhà nước\n",
      "giao đất, cho thuê đất, công nhận quyền sử dụng đất; đang sử dụng đất ổn định,\n",
      "đủ điều kiện cấp Giấy chứng nhận quyền sử dụng đất, quyền sở hữu tài sản gắn liền\n",
      "với đất mà chưa được Nhà nước cấp Giấy chứng nhận quyền sử dụng đất, Giấy chứng\n",
      "nhận quyền sở hữu nhà ở và quyền sử dụng đất ở, Giấy chứng nhận quyền sử dụng đất,\n",
      "quyền sở hữu nhà ở và tài sản khác gắn liền với đất, Giấy chứng nhận quyền sử dụng\n",
      "đất, quyền sở hữu tài sản gắn liền với đất; nhận quyền sử dụng đất; thuê lại đất\n",
      "theo quy định của Luật này, bao gồm: 1\n",
      "retriever 2 grade: {'score': 'yes'}\n",
      "doc 3 content: . 10. Chủ đầu tư dự án đầu tư\n",
      "có sử dụng đất (sau đây gọi là chủ đầu tư) là nhà đầu tư theo quy định của\n",
      "pháp luật về đầu tư, pháp luật có liên quan đã được lựa chọn để thực hiện dự án\n",
      "đầu tư có sử dụng đất và được giao đất, cho thuê đất, chuyển mục đích sử dụng đất\n",
      "theo quy định của Luật này. 11. Chuyển mục đích sử dụng đất là việc người sử dụng đất được thay đổi từ mục đích sử dụng đất này sang mục\n",
      "đích sử dụng đất khác theo quy định của Luật này. 12. Chuyển quyền sử dụng đất là việc chuyển giao quyền sử dụng đất từ người này sang người khác\n",
      "thông qua hình thức chuyển đổi, chuyển nhượng, thừa kế, tặng cho quyền sử dụng\n",
      "đất, góp vốn bằng quyền sử dụng đất. 13. Cộng đồng dân cư là cộng\n",
      "đồng người Việt Nam sinh sống trên cùng địa bàn thôn, làng, ấp, bản, bon, buôn,\n",
      "phum, sóc, tổ dân phố và điểm dân cư tương tự có cùng phong tục, tập quán hoặc\n",
      "có chung dòng họ trên lãnh thổ nước Cộng hòa xã hội chủ nghĩa Việt Nam. 14\n",
      "retriever 3 grade: {'score': 'yes'}\n",
      "doc 4 content: Điều 2. Đối\n",
      "tượng áp dụng\n",
      "1. Cơ quan nhà nước thực hiện\n",
      "quyền hạn và trách nhiệm đại diện chủ sở hữu toàn dân về đất đai, thực hiện nhiệm\n",
      "vụ thống nhất quản lý nhà nước về đất đai. 2. Người sử dụng đất. 3. Các đối tượng khác có liên\n",
      "quan đến việc quản lý, sử dụng đất đai.\n",
      "retriever 4 grade: {'score': 'yes'}\n",
      "doc 5 content: Điều 26.\n",
      "Quyền chung của người sử dụng đất\n",
      "1. Được cấp Giấy chứng nhận quyền\n",
      "sử dụng đất, quyền sở hữu tài sản gắn liền với đất khi có đủ điều\n",
      "kiện theo quy định của pháp luật về đất đai. 2. Hưởng thành quả lao động, kết\n",
      "quả đầu tư trên đất sử dụng hợp pháp. 3. Hưởng các lợi ích khi Nhà nước đầu tư để bảo vệ, cải tạo và phát triển đất nông nghiệp. 4. Được Nhà nước hướng dẫn và\n",
      "giúp đỡ trong việc cải tạo, phục hồi đất nông nghiệp. 5. Được Nhà nước bảo hộ khi người\n",
      "khác xâm phạm quyền, lợi ích hợp pháp về đất đai của mình. 6. Được quyền chuyển mục đích sử\n",
      "dụng đất theo quy định của Luật này và quy định khác của pháp luật có liên quan. 7. Được bồi thường , hỗ trợ, tái định cư khi Nhà nước thu hồi đất theo quy định của\n",
      "Luật này. 8. Khiếu nại, tố cáo, khởi kiện\n",
      "về những hành vi vi phạm quyền sử dụng đất hợp pháp của mình và những hành vi\n",
      "khác vi phạm pháp luật về đất đai.\n",
      "retriever 5 grade: {'score': 'yes'}\n"
     ]
    }
   ],
   "source": [
    "retrieval_grader_prompt = PromptTemplate(\n",
    "    template=\"\"\"You are a grader assessing relevance of a retrieved document to a user question in Real Estate Law field. \n",
    "    If the document contains keywords related to the user question, grade it as relevant. It does not need to be a stringent test. The goal is to filter out erroneous retrievals. \\n\n",
    "    Return a binary score, either `\"yes\"` or `\"no\"`, to indicate whether the document is relevant to the question.\n",
    "    Provide the response strictly as a JSON object with a single key `\"score\"` and no preamble or explanation.\n",
    "    Here is the retrieved document: \\n\\n {document} \\n\\n\n",
    "    Here is the user question: {question} \\n\n",
    "    \"\"\",\n",
    "    input_variables=[\"question\", \"document\"],\n",
    ")\n",
    "start = time.time()\n",
    "retrieval_grader = retrieval_grader_prompt | llm | JsonOutputParser()\n",
    "\n",
    "# test\n",
    "docs = retriever.invoke(question)\n",
    "end = time.time()\n",
    "\n",
    "for i, doc in enumerate(docs):\n",
    "    doc_txt = doc.page_content\n",
    "    print(f\"doc {i + 1} content: {doc_txt}\")\n",
    "    doc_grader = retrieval_grader.invoke({\"question\": question, \"document\": doc_txt})\n",
    "    print(f\"retriever {i + 1} grade: {doc_grader}\")\n"
   ]
  },
  {
   "cell_type": "markdown",
   "metadata": {},
   "source": [
    "### Hallucination"
   ]
  },
  {
   "cell_type": "code",
   "execution_count": 49,
   "metadata": {},
   "outputs": [],
   "source": [
    "docs = \"luật nhà ở 2024 quy định tất cả các thành viên trong gia đình trên 18t đều có quyền thừa kế\"\n",
    "response = \"luật nhà ở 2013 quy định tất cả các thành viên trong gia đình trên 18t đều có quyền thừa kế\""
   ]
  },
  {
   "cell_type": "code",
   "execution_count": 52,
   "metadata": {},
   "outputs": [
    {
     "name": "stdout",
     "output_type": "stream",
     "text": [
      "The time required to generate response by the generation chain in seconds:0.39535975456237793\n",
      "{'score': 'no'}\n"
     ]
    }
   ],
   "source": [
    "hallucination_grader_prompt = PromptTemplate(\n",
    "    template=\"\"\"You are a grader assessing whether an answer is **strictly grounded in and supported by** a set of referenced legal documents about **Vietnam Real Estate Law**. \n",
    "    If the answer accurately reflects information from the provided legal documents **without introducing unsupported details, fabricating legal articles, or misstating years**, grade it as `\"yes\"`. Otherwise, grade it as `\"no\"`.\n",
    "    Provide the binary score as a JSON with a single key `\"score\"` and no preamble or explanation. \n",
    "    Here are the facts:\n",
    "    \\n ------- \\n\n",
    "    {documents} \n",
    "    \\n ------- \\n\n",
    "    Here is the answer: {generation}\"\"\",\n",
    "    input_variables=[\"generation\", \"documents\"],\n",
    ")\n",
    "start = time.time()\n",
    "hallucination_grader = hallucination_grader_prompt | llm | JsonOutputParser()\n",
    "\n",
    "# test\n",
    "hallucination_grader_response = hallucination_grader.invoke({\"documents\": docs, \"generation\": response})\n",
    "end = time.time()\n",
    "print(f\"The time required to generate response by the generation chain in seconds:{end - start}\")\n",
    "print(hallucination_grader_response)"
   ]
  },
  {
   "cell_type": "markdown",
   "metadata": {},
   "source": [
    "### ANswer grader"
   ]
  },
  {
   "cell_type": "code",
   "execution_count": 51,
   "metadata": {},
   "outputs": [
    {
     "name": "stdout",
     "output_type": "stream",
     "text": [
      "The time required to generate response by the answer grader in seconds:0.23288917541503906\n",
      "{'score': 'no'}\n"
     ]
    }
   ],
   "source": [
    "answer_grader_prompt = PromptTemplate(\n",
    "    template=\"\"\"You are an expert lawyer specializing in Real Estate Law in Vietnam, acting as a grader to assess whether an answer is useful in resolving a given question.   \n",
    "    If the answer provides relevant and helpful legal information to address the user's question, grade it as `\"yes\"`. Otherwise, grade it as `\"no\"`.   \n",
    "    Return the result strictly as a JSON object with a single key `\"score\"`, without any preamble or explanation.\n",
    "    Here is the answer:\n",
    "    \\n ------- \\n\n",
    "    {generation} \n",
    "    \\n ------- \\n\n",
    "    Here is the question: {question}\"\"\",\n",
    "    input_variables=[\"generation\", \"question\"],\n",
    ")\n",
    "start = time.time()\n",
    "answer_grader = answer_grader_prompt | llm | JsonOutputParser()\n",
    "\n",
    "# test\n",
    "answer_grader_response = answer_grader.invoke({\"question\": question,\"generation\": response})\n",
    "end = time.time()\n",
    "print(f\"The time required to generate response by the answer grader in seconds:{end - start}\")\n",
    "print(answer_grader_response)"
   ]
  },
  {
   "cell_type": "markdown",
   "metadata": {},
   "source": [
    "### Websearch tool"
   ]
  },
  {
   "cell_type": "code",
   "execution_count": 20,
   "metadata": {},
   "outputs": [],
   "source": [
    "tavily_api_key = os.environ['TAVILY_API_KEY']\n",
    "web_search_tool = TavilySearchResults(k=3)\n"
   ]
  },
  {
   "cell_type": "markdown",
   "metadata": {},
   "source": [
    "Single test web_search_tool"
   ]
  },
  {
   "cell_type": "code",
   "execution_count": 21,
   "metadata": {},
   "outputs": [
    {
     "name": "stdout",
     "output_type": "stream",
     "text": [
      "[{'title': 'Thị trường bất động sản cuối năm 2024: Kỳ vọng bứt phá', 'url': 'https://consosukien.vn/thi-truong-bat-dong-san-cuoi-nam-2024-ky-vong-but-pha.htm', 'content': 'Cụ thể, mức độ quan tâm đất trong Quý III/2024 dự kiến tăng 49% so với cùng kỳ năm 2023, nhà riêng tăng 25%, chung cư tăng 24%, biệt thự tăng 22', 'score': 0.7738498}, {'title': 'Cập nhật tin tức mới nhất về bất động sản ở Mỹ năm 2024', 'url': 'https://ditrumyfcg.com/bat-dong-san-o-my/', 'content': 'Theo số liệu từ NAR (Hiệp hội Bất động sản quốc gia), trong 3 tháng đầu năm 2024, doanh số bán nhà đã qua sở hữu của Mỹ giảm 4,3%, xuống mức 4,19 triệu căn.', 'score': 0.767429}, {'title': 'Nhìn lại thị trường bất động sản năm 2024 - Báo Kinh tế đô thị', 'url': 'https://kinhtedothi.vn/nhin-lai-thi-truong-bat-dong-san-nam-2024.html', 'content': 'Tại thời điểm cuối năm 2024, thị trường ghi nhận khoảng 56.000 sản phẩm chào bán trên thị trường sơ cấp, tương đương với thời điểm cuối năm 2023', 'score': 0.76385427}, {'title': 'Toàn cảnh thị trường bất động sản 2024 - VTV.vn', 'url': 'https://vtv.vn/kinh-te/toan-canh-thi-truong-bat-dong-san-2024-20241223201533067.htm', 'content': 'Năm 2024 đang khép lại, thị trường bất động sản đã có một năm chuyển biến đầy tích cực. Các phân khúc bất động sản đã có những diễn biến hồi', 'score': 0.75809944}, {'title': 'Năm 2024, nguồn cung bất động sản tăng trưởng mạnh', 'url': 'https://baochinhphu.vn/nam-2024-nguon-cung-bat-dong-san-tang-truong-manh-10224123109473222.htm', 'content': 'Tính chung cả năm 2024, toàn thị trường ghi nhận khoảng gần 81 nghìn sản phẩm chào bán, tăng hơn 40% so với năm 2023. Trong đó, có 65,376 sản', 'score': 0.74004334}]\n"
     ]
    }
   ],
   "source": [
    "import os\n",
    "from langchain.tools import TavilySearchResults\n",
    "\n",
    "def search_web(query: str, k: int = 3):\n",
    "    \"\"\"\n",
    "    Searches the web using Tavily API for the given query.\n",
    "    \n",
    "    Parameters:\n",
    "    - query (str): The search query.\n",
    "    - k (int): Number of search results to return (default is 3).\n",
    "    \n",
    "    Returns:\n",
    "    - list: A list of search result snippets.\n",
    "    \"\"\"\n",
    "    tavily_api_key = os.environ['TAVILY_API_KEY']\n",
    "    web_search_tool = TavilySearchResults(k=k)\n",
    "    \n",
    "    try:\n",
    "        results = web_search_tool.run(query)\n",
    "        return results\n",
    "    except Exception as e:\n",
    "        print(f\"Error while searching: {e}\")\n",
    "        return []\n",
    "\n",
    "query = \"TÌnh hình bất đọngo sản 2024\"\n",
    "search_results = search_web(query)\n",
    "print(search_results)\n"
   ]
  },
  {
   "cell_type": "markdown",
   "metadata": {},
   "source": [
    "## LangGraphh"
   ]
  },
  {
   "cell_type": "code",
   "execution_count": 22,
   "metadata": {},
   "outputs": [],
   "source": [
    "from typing_extensions import TypedDict\n",
    "from typing import List\n",
    "\n",
    "### State\n",
    "\n",
    "class GraphState(TypedDict):\n",
    "    question : str\n",
    "    generation : str\n",
    "    web_search : str\n",
    "    documents : List[str]\n",
    "    iterations: int"
   ]
  },
  {
   "cell_type": "markdown",
   "metadata": {},
   "source": [
    "### Nodes"
   ]
  },
  {
   "cell_type": "code",
   "execution_count": 23,
   "metadata": {},
   "outputs": [],
   "source": [
    "def parse_question(state):\n",
    "    question = state[\"question\"]\n",
    "    return {\"question\": question}"
   ]
  },
  {
   "cell_type": "code",
   "execution_count": 24,
   "metadata": {},
   "outputs": [],
   "source": [
    "from langchain.schema import Document\n",
    "def retrieve(state):\n",
    "    \"\"\"\n",
    "    Retrieve documents from vectorstore\n",
    "\n",
    "    Args:\n",
    "        state (dict): The current graph state\n",
    "\n",
    "    Returns:\n",
    "        state (dict): New key added to state, documents, that contains retrieved documents\n",
    "    \"\"\"\n",
    "    print(\"---RETRIEVE---\")\n",
    "    question = state[\"question\"]\n",
    "\n",
    "    # Retrieval\n",
    "    try:\n",
    "        documents = retriever.invoke(question)\n",
    "    except Exception as e:\n",
    "        print(f\"Error in retrieval: {e}\")\n",
    "        documents = []\n",
    "    return {\"documents\": documents, \"question\": question}\n",
    "#\n",
    "def generate(state):\n",
    "    \"\"\"\n",
    "    Generate answer using RAG on retrieved documents\n",
    "\n",
    "    Args:\n",
    "        state (dict): The current graph state\n",
    "\n",
    "    Returns:\n",
    "        state (dict): New key added to state, generation, that contains LLM generation\n",
    "    \"\"\"\n",
    "    print(\"---GENERATE---\")\n",
    "    question = state[\"question\"]\n",
    "    documents = state[\"documents\"]\n",
    "    iterations = state.get(\"iterations\", 0) + 1\n",
    "    \n",
    "    # RAG generation\n",
    "    generation = rag_chain.invoke({\"context\": documents, \"question\": question})\n",
    "    return {\"documents\": documents, \"question\": question, \"generation\": generation, \"iterations\": iterations}\n",
    "#\n",
    "def grade_documents(state):\n",
    "    \"\"\"\n",
    "    Determines whether the retrieved documents are relevant to the question\n",
    "    If any document is not relevant, we will set a flag to run web search\n",
    "\n",
    "    Args:\n",
    "        state (dict): The current graph state\n",
    "\n",
    "    Returns:\n",
    "        state (dict): Filtered out irrelevant documents and updated web_search state\n",
    "    \"\"\"\n",
    "\n",
    "    print(\"---CHECK DOCUMENT RELEVANCE TO QUESTION---\")\n",
    "    question = state[\"question\"]\n",
    "    documents = state[\"documents\"]\n",
    "    \n",
    "    # Score each doc\n",
    "    filtered_docs = []\n",
    "    web_search = \"No\"\n",
    "    for d in documents:\n",
    "        score = retrieval_grader.invoke({\"question\": question, \"document\": d.page_content})\n",
    "        grade = score['score']\n",
    "        # Document relevant\n",
    "        if grade.lower() == \"yes\":\n",
    "            print(\"---GRADE: DOCUMENT RELEVANT---\")\n",
    "            filtered_docs.append(d)\n",
    "        # Document not relevant\n",
    "        else:\n",
    "            print(\"---GRADE: DOCUMENT NOT RELEVANT---\")\n",
    "            # We do not include the document in filtered_docs\n",
    "            # We set a flag to indicate that we want to run web search\n",
    "            web_search = \"Yes\"\n",
    "            continue\n",
    "    return {\"documents\": filtered_docs, \"question\": question, \"web_search\": web_search}\n",
    "#\n",
    "def web_search(state):\n",
    "    \"\"\"\n",
    "    Web search based based on the question\n",
    "\n",
    "    Args:\n",
    "        state (dict): The current graph state\n",
    "\n",
    "    Returns:\n",
    "        state (dict): Appended web results to documents\n",
    "    \"\"\"\n",
    "\n",
    "    print(\"---WEB SEARCH---\")\n",
    "    question = state[\"question\"]\n",
    "    documents = state.get(\"documents\", [])\n",
    "    iterations = state.get(\"iterations\", 0) + 1\n",
    "\n",
    "    # Web search\n",
    "    docs = web_search_tool.run({\"query\": question})\n",
    "    web_results = \"\\n\".join([d[\"content\"] for d in docs])\n",
    "    web_results = Document(page_content=web_results)\n",
    "    if documents is not None:\n",
    "        documents.append(web_results)\n",
    "    else:\n",
    "        documents = [web_results]\n",
    "    return {\"documents\": documents, \"question\": question, \"iterations\": iterations}"
   ]
  },
  {
   "cell_type": "markdown",
   "metadata": {},
   "source": [
    "### Condition edges"
   ]
  },
  {
   "cell_type": "code",
   "execution_count": 25,
   "metadata": {},
   "outputs": [],
   "source": [
    "def filter_question(state):\n",
    "    \"\"\"\n",
    "    Filter the question for sensitive topics\n",
    "    \n",
    "    Args:\n",
    "        state (dict): The current graph state\n",
    "    \n",
    "    Returns:\n",
    "        dict: Updated state with decision to end or continue\n",
    "    \"\"\"\n",
    "    print(\"---FILTER QUESTION---\")\n",
    "    question = state[\"question\"]\n",
    "    filter_result = filter_chain.invoke({\"question\": question})\n",
    "    if filter_result[\"score\"] == \"yes\":\n",
    "        print(\"---SENSITIVE TOPIC DETECTED---\")\n",
    "        return \"yes\"\n",
    "    else:\n",
    "        print(\"---QUESTION PASSED FILTER---\")\n",
    "        return \"no\""
   ]
  },
  {
   "cell_type": "code",
   "execution_count": 26,
   "metadata": {},
   "outputs": [],
   "source": [
    "def route_question(state):\n",
    "    \"\"\"\n",
    "    Route question to web search or RAG.\n",
    "\n",
    "    Args:\n",
    "        state (dict): The current graph state\n",
    "\n",
    "    Returns:\n",
    "        str: Next node to call\n",
    "    \"\"\"\n",
    "\n",
    "    print(\"---ROUTE QUESTION---\")\n",
    "    question = state[\"question\"]\n",
    "    print(question)\n",
    "    source = question_router.invoke({\"question\": question})  \n",
    "    print(source)\n",
    "    print(source['datasource'])\n",
    "    if source['datasource'] == 'web_search':\n",
    "        print(\"---ROUTE QUESTION TO WEB SEARCH---\")\n",
    "        return \"websearch\"\n",
    "    elif source['datasource'] == 'vectorstore':\n",
    "        print(\"---ROUTE QUESTION TO RAG---\")\n",
    "        return \"vectorstore\"\n"
   ]
  },
  {
   "cell_type": "code",
   "execution_count": 27,
   "metadata": {},
   "outputs": [],
   "source": [
    "def decide_to_generate(state):\n",
    "    \"\"\"\n",
    "    Determines whether to generate an answer, or add web search\n",
    "\n",
    "    Args:\n",
    "        state (dict): The current graph state\n",
    "\n",
    "    Returns:\n",
    "        str: Binary decision for next node to call\n",
    "    \"\"\"\n",
    "\n",
    "    print(\"---ASSESS GRADED DOCUMENTS---\")\n",
    "    question = state[\"question\"]\n",
    "    web_search = state[\"web_search\"]\n",
    "    filtered_documents = state[\"documents\"]\n",
    "\n",
    "    if web_search == \"Yes\":\n",
    "        # All documents have been filtered check_relevance\n",
    "        # We will re-generate a new query\n",
    "        print(\"---DECISION: ALL DOCUMENTS ARE NOT RELEVANT TO QUESTION, INCLUDE WEB SEARCH---\")\n",
    "        return \"websearch\"\n",
    "    else:\n",
    "        # We have relevant documents, so generate answer\n",
    "        print(\"---DECISION: GENERATE---\")\n",
    "        return \"generate\"\n"
   ]
  },
  {
   "cell_type": "code",
   "execution_count": 28,
   "metadata": {},
   "outputs": [],
   "source": [
    "def grade_generation_v_documents_and_question(state):\n",
    "    \"\"\"\n",
    "    Determines whether the generation is grounded in the document and answers question.\n",
    "\n",
    "    Args:\n",
    "        state (dict): The current graph state\n",
    "\n",
    "    Returns:\n",
    "        str: Decision for next node to call\n",
    "    \"\"\"\n",
    "    print(\"---CHECK HALLUCINATIONS---\")\n",
    "    question = state[\"question\"]\n",
    "    documents = state[\"documents\"]\n",
    "    generation = state[\"generation\"]\n",
    "    iterations = state.get(\"iterations\", 0)\n",
    "    print(f\"number of iteration at this hallucination term: {iterations}\")\n",
    "    \n",
    "    if iterations >= 5:\n",
    "        print(\"GETTING MAX ATTEMPTS\")\n",
    "        return \"end\"\n",
    "\n",
    "    score = hallucination_grader.invoke({\"documents\": documents, \"generation\": generation})\n",
    "    grade = score['score']\n",
    "\n",
    "    # Check hallucination\n",
    "    if grade == \"yes\":\n",
    "        print(\"---DECISION: GENERATION IS GROUNDED IN DOCUMENTS---\")\n",
    "        # Check question-answering\n",
    "        print(\"---GRADE GENERATION vs QUESTION---\")\n",
    "        score = answer_grader.invoke({\"question\": question,\"generation\": generation})\n",
    "        grade = score['score']\n",
    "        if grade == \"yes\":\n",
    "            print(\"---DECISION: GENERATION ADDRESSES QUESTION---\")\n",
    "            return \"useful\"\n",
    "        else:\n",
    "            print(\"---DECISION: GENERATION DOES NOT ADDRESS QUESTION---\")\n",
    "            return \"not useful\"\n",
    "    else:\n",
    "        pprint(\"---DECISION: GENERATION IS NOT GROUNDED IN DOCUMENTS, RE-TRY---\")\n",
    "        return \"not supported\""
   ]
  },
  {
   "cell_type": "markdown",
   "metadata": {},
   "source": [
    "### Add node"
   ]
  },
  {
   "cell_type": "code",
   "execution_count": 29,
   "metadata": {},
   "outputs": [
    {
     "data": {
      "text/plain": [
       "<langgraph.graph.state.StateGraph at 0x338aac0e0>"
      ]
     },
     "execution_count": 29,
     "metadata": {},
     "output_type": "execute_result"
    }
   ],
   "source": [
    "from langgraph.graph import END, StateGraph\n",
    "workflow = StateGraph(GraphState)\n",
    "\n",
    "# Define the nodes\n",
    "workflow.add_node(\"route_question\", route_question)\n",
    "workflow.add_node(\"parse_question\", parse_question)\n",
    "workflow.add_node(\"websearch\", web_search) # web search\n",
    "workflow.add_node(\"retrieve\", retrieve) # retrieve\n",
    "workflow.add_node(\"grade_documents\", grade_documents) # grade documents\n",
    "workflow.add_node(\"generate\", generate) # generatae"
   ]
  },
  {
   "cell_type": "markdown",
   "metadata": {},
   "source": [
    "### Entry & End points"
   ]
  },
  {
   "cell_type": "code",
   "execution_count": 30,
   "metadata": {},
   "outputs": [
    {
     "data": {
      "text/plain": [
       "<langgraph.graph.state.StateGraph at 0x338aac0e0>"
      ]
     },
     "execution_count": 30,
     "metadata": {},
     "output_type": "execute_result"
    }
   ],
   "source": [
    "workflow.set_conditional_entry_point(\n",
    "    filter_question,\n",
    "    {\n",
    "        \"yes\": END,\n",
    "        \"no\": \"parse_question\"\n",
    "    },\n",
    ")\n",
    "\n",
    "workflow.add_conditional_edges(\n",
    "    \"parse_question\",\n",
    "    route_question,     \n",
    "    {\n",
    "        \"websearch\": \"websearch\",\n",
    "        \"vectorstore\": \"retrieve\",\n",
    "    },\n",
    ")\n",
    "\n",
    "workflow.add_edge(\"retrieve\", \"grade_documents\")\n",
    "workflow.add_conditional_edges(\n",
    "    \"grade_documents\",\n",
    "    decide_to_generate,\n",
    "    {\n",
    "        \"websearch\": \"websearch\",\n",
    "        \"generate\": \"generate\",\n",
    "    },\n",
    ")\n",
    "workflow.add_edge(\"websearch\", \"generate\")\n",
    "workflow.add_conditional_edges(\n",
    "    \"generate\",\n",
    "    grade_generation_v_documents_and_question,\n",
    "    {\n",
    "        \"not supported\": \"generate\",\n",
    "        \"useful\": END,\n",
    "        \"not useful\": \"websearch\",\n",
    "        \"end\": END\n",
    "    },\n",
    ")"
   ]
  },
  {
   "cell_type": "code",
   "execution_count": 31,
   "metadata": {},
   "outputs": [],
   "source": [
    "app = workflow.compile()"
   ]
  },
  {
   "cell_type": "markdown",
   "metadata": {},
   "source": [
    "## Test"
   ]
  },
  {
   "cell_type": "code",
   "execution_count": 32,
   "metadata": {},
   "outputs": [
    {
     "name": "stdout",
     "output_type": "stream",
     "text": [
      "---FILTER QUESTION---\n",
      "---QUESTION PASSED FILTER---\n",
      "---ROUTE QUESTION---\n",
      "Phạm vi điều chỉnh và đối tượng áp dụng Luật Đất đai năm 2024 là gì?\n",
      "{'datasource': 'vectorstore'}\n",
      "vectorstore\n",
      "---ROUTE QUESTION TO RAG---\n",
      "'Finished running: parse_question:'\n",
      "---RETRIEVE---\n",
      "'Finished running: retrieve:'\n",
      "---CHECK DOCUMENT RELEVANCE TO QUESTION---\n",
      "---GRADE: DOCUMENT NOT RELEVANT---\n",
      "---GRADE: DOCUMENT RELEVANT---\n",
      "---GRADE: DOCUMENT NOT RELEVANT---\n",
      "---GRADE: DOCUMENT NOT RELEVANT---\n",
      "---GRADE: DOCUMENT NOT RELEVANT---\n",
      "---ASSESS GRADED DOCUMENTS---\n",
      "---DECISION: ALL DOCUMENTS ARE NOT RELEVANT TO QUESTION, INCLUDE WEB SEARCH---\n",
      "'Finished running: grade_documents:'\n",
      "---WEB SEARCH---\n",
      "'Finished running: websearch:'\n",
      "---GENERATE---\n",
      "---CHECK HALLUCINATIONS---\n",
      "number of iteration at this hallucination term: 2\n",
      "---DECISION: GENERATION IS GROUNDED IN DOCUMENTS---\n",
      "---GRADE GENERATION vs QUESTION---\n",
      "---DECISION: GENERATION ADDRESSES QUESTION---\n",
      "'Finished running: generate:'\n",
      "('Theo quy định của Luật Đất đai năm 2024, phạm vi điều chỉnh của Luật này '\n",
      " 'được quy định tại Điều 1 như sau:\\n'\n",
      " '\\n'\n",
      " '\"Luật này quy định về chế độ sở hữu đất đai, quyền hạn và trách nhiệm của '\n",
      " 'Nhà nước đại diện chủ sở hữu toàn dân về đất đai và thống nhất quản lý về '\n",
      " 'đất đai, chế độ quản lý và sử dụng đất đai, quyền và nghĩa vụ của công dân, '\n",
      " 'người sử dụng đất đối với đất đai thuộc lãnh thổ của nước Cộng hòa xã hội '\n",
      " 'chủ nghĩa Việt Nam.\"\\n'\n",
      " '\\n'\n",
      " 'Vậy, phạm vi điều chỉnh của Luật Đất đai năm 2024 là về chế độ sở hữu đất '\n",
      " 'đai, quyền hạn và trách nhiệm của Nhà nước, thống nhất quản lý về đất đai, '\n",
      " 'chế độ quản lý và sử dụng đất đai, quyền và nghĩa vụ của công dân và người '\n",
      " 'sử dụng đất đối với đất đai thuộc lãnh thổ Việt Nam.\\n'\n",
      " '\\n'\n",
      " 'Về đối tượng áp dụng, Luật Đất đai năm 2024 áp dụng đối với:\\n'\n",
      " '\\n'\n",
      " '* Cơ quan nhà nước thực hiện quyền hạn và trách nhiệm đại diện chủ sở hữu '\n",
      " 'toàn dân về đất đai, thực hiện nhiệm vụ thống nhất quản lý nhà nước về đất '\n",
      " 'đai.\\n'\n",
      " '* Người sử dụng đất.\\n'\n",
      " '* Các đối tượng khác có liên quan đến việc quản lý, sử dụng đất đai.\\n'\n",
      " '\\n'\n",
      " 'Theo Điều 1 của Luật Đất đai năm 2024, Luật này áp dụng đối với đất đai '\n",
      " 'thuộc lãnh thổ Việt Nam, không có giới hạn về diện tích, vị trí và loại '\n",
      " 'đất.\\n'\n",
      " '\\n'\n",
      " 'Vậy, Phạm vi điều chỉnh và đối tượng áp dụng Luật Đất đai năm 2024 là về chế '\n",
      " 'độ sở hữu đất đai, quyền hạn và trách nhiệm của Nhà nước, thống nhất quản lý '\n",
      " 'về đất đai, chế độ quản lý và sử dụng đất đai, quyền và nghĩa vụ của công '\n",
      " 'dân và người sử dụng đất đối với đất đai thuộc lãnh thổ Việt Nam, áp dụng '\n",
      " 'đối với cơ quan nhà nước, người sử dụng đất và các đối tượng khác có liên '\n",
      " 'quan đến việc quản lý, sử dụng đất đai.')\n"
     ]
    }
   ],
   "source": [
    "inputs = {\"question\": \"Phạm vi điều chỉnh và đối tượng áp dụng Luật Đất đai năm 2024 là gì?\"}\n",
    "for output in app.stream(inputs):\n",
    "    for key, value in output.items():\n",
    "        pprint(f\"Finished running: {key}:\")\n",
    "\n",
    "        if key == \"filter_question\" and value == \"yes\":\n",
    "            pprint(\"xin loi toi khong the tra loi cau hoi nay\")\n",
    "            break\n",
    "\n",
    "    if \"generation\" in value:\n",
    "        pprint(value[\"generation\"])"
   ]
  },
  {
   "cell_type": "markdown",
   "metadata": {},
   "source": [
    "### Deploy model to gradio"
   ]
  },
  {
   "cell_type": "code",
   "execution_count": 33,
   "metadata": {},
   "outputs": [],
   "source": [
    "def answer(input):\n",
    "    question  = {\"question\": input}\n",
    "    for output in app.stream(question):\n",
    "        for key, value in output.items():\n",
    "            if key == \"filter_question\" and value == \"yes\":\n",
    "                return \"Xin lỗi, mình không thể trả lời câu hỏi này vì nó chứa nội dung liên quan đến chủ đề nhạy cảm.\"\n",
    "\n",
    "        if \"generation\" in value:\n",
    "            return value[\"generation\"]\n",
    "    return \"Xin lỗi, mình không có câu trả lời cho câu hỏi của bạn\""
   ]
  },
  {
   "cell_type": "code",
   "execution_count": 34,
   "metadata": {},
   "outputs": [
    {
     "name": "stdout",
     "output_type": "stream",
     "text": [
      "---FILTER QUESTION---\n",
      "---SENSITIVE TOPIC DETECTED---\n",
      "Xin lỗi, mình không có câu trả lời cho câu hỏi của bạn\n"
     ]
    }
   ],
   "source": [
    "input = \"mẹ m\"\n",
    "print(answer(input))"
   ]
  },
  {
   "cell_type": "code",
   "execution_count": null,
   "metadata": {},
   "outputs": [],
   "source": []
  }
 ],
 "metadata": {
  "kernelspec": {
   "display_name": "agent_libs",
   "language": "python",
   "name": "python3"
  },
  "language_info": {
   "codemirror_mode": {
    "name": "ipython",
    "version": 3
   },
   "file_extension": ".py",
   "mimetype": "text/x-python",
   "name": "python",
   "nbconvert_exporter": "python",
   "pygments_lexer": "ipython3",
   "version": "3.12.0"
  }
 },
 "nbformat": 4,
 "nbformat_minor": 2
}
